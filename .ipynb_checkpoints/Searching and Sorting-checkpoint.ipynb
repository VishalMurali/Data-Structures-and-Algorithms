{
 "cells": [
  {
   "cell_type": "markdown",
   "metadata": {},
   "source": [
    "### 1. Implementation of Sequential Search"
   ]
  },
  {
   "cell_type": "code",
   "execution_count": 8,
   "metadata": {},
   "outputs": [],
   "source": [
    "# Unordered array\n",
    "def seq_search(arr, element):\n",
    "    pos = 0\n",
    "    found = False\n",
    "    \n",
    "    while not found and pos<len(arr):\n",
    "        \n",
    "        if arr[pos] == element:\n",
    "            found = True\n",
    "            \n",
    "        else:\n",
    "            pos += 1\n",
    "            \n",
    "    return found"
   ]
  },
  {
   "cell_type": "code",
   "execution_count": 9,
   "metadata": {},
   "outputs": [
    {
     "data": {
      "text/plain": [
       "True"
      ]
     },
     "execution_count": 9,
     "metadata": {},
     "output_type": "execute_result"
    }
   ],
   "source": [
    "seq_search([1,2,3], 1)"
   ]
  },
  {
   "cell_type": "code",
   "execution_count": 10,
   "metadata": {},
   "outputs": [
    {
     "data": {
      "text/plain": [
       "False"
      ]
     },
     "execution_count": 10,
     "metadata": {},
     "output_type": "execute_result"
    }
   ],
   "source": [
    "seq_search([1,2,3], 4)"
   ]
  },
  {
   "cell_type": "code",
   "execution_count": 11,
   "metadata": {},
   "outputs": [],
   "source": [
    "# Ordered array\n",
    "def ordered_seq_search(arr, element):\n",
    "    pos = 0\n",
    "    found = False\n",
    "    stopped = False\n",
    "    \n",
    "    while not found and pos<len(arr) and not stopped:\n",
    "        \n",
    "        if arr[pos] == element:\n",
    "            found = True\n",
    "            \n",
    "        elif arr[pos] > element:\n",
    "            stopped = True\n",
    "            \n",
    "        else:\n",
    "            pos += 1\n",
    "            \n",
    "    return found"
   ]
  },
  {
   "cell_type": "code",
   "execution_count": 13,
   "metadata": {},
   "outputs": [
    {
     "data": {
      "text/plain": [
       "True"
      ]
     },
     "execution_count": 13,
     "metadata": {},
     "output_type": "execute_result"
    }
   ],
   "source": [
    "ordered_seq_search([1,2,3], 2)"
   ]
  },
  {
   "cell_type": "markdown",
   "metadata": {},
   "source": [
    "### 2. Implementation of Binary Search\n",
    "#### Iterative version:"
   ]
  },
  {
   "cell_type": "code",
   "execution_count": 58,
   "metadata": {},
   "outputs": [
    {
     "name": "stdout",
     "output_type": "stream",
     "text": [
      "\n"
     ]
    }
   ],
   "source": [
    "# Iterative version [1,2,3,4,5], 4\n",
    "\n",
    "def binary_search(arr, element):\n",
    "    \n",
    "    found = False\n",
    "    search_space = arr\n",
    "    \n",
    "    while not found and len(search_space) > 1:\n",
    "        \n",
    "        mid = len(search_space)//2\n",
    "        print search_space[mid], search_space\n",
    "        \n",
    "        if search_space[mid] == element:\n",
    "            found = True\n",
    "        elif search_space[mid] < element:\n",
    "            search_space = search_space[mid:]\n",
    "        elif search_space[mid] > element:\n",
    "            search_space = search_space[0:mid]\n",
    "        \n",
    "    return found"
   ]
  },
  {
   "cell_type": "code",
   "execution_count": 63,
   "metadata": {},
   "outputs": [
    {
     "name": "stdout",
     "output_type": "stream",
     "text": [
      "3 [1, 2, 3, 4, 5]\n",
      "4 [3, 4, 5]\n"
     ]
    },
    {
     "data": {
      "text/plain": [
       "True"
      ]
     },
     "execution_count": 63,
     "metadata": {},
     "output_type": "execute_result"
    }
   ],
   "source": [
    "binary_search([1,2,3,4,5], 4)"
   ]
  },
  {
   "cell_type": "markdown",
   "metadata": {},
   "source": [
    "#### Recursive version"
   ]
  },
  {
   "cell_type": "code",
   "execution_count": 68,
   "metadata": {},
   "outputs": [],
   "source": [
    "def rec_binary_search(arr, element):\n",
    "    \n",
    "    # Base case\n",
    "    if len(arr) == 0:\n",
    "        return False\n",
    "    \n",
    "    else:\n",
    "        \n",
    "        mid = len(arr)/2\n",
    "        if arr[mid]  == element:\n",
    "            return True\n",
    "        else:\n",
    "            \n",
    "            if element > arr[mid]:\n",
    "                 return rec_binary_search(arr[mid+1:], element)\n",
    "                \n",
    "            elif element < arr[mid]:\n",
    "                 return  rec_binary_search(arr[0:mid], element)\n",
    "        \n",
    "        "
   ]
  },
  {
   "cell_type": "code",
   "execution_count": 72,
   "metadata": {},
   "outputs": [
    {
     "data": {
      "text/plain": [
       "True"
      ]
     },
     "execution_count": 72,
     "metadata": {},
     "output_type": "execute_result"
    }
   ],
   "source": [
    "rec_binary_search( [1,2,3,4,5] , 1)"
   ]
  },
  {
   "cell_type": "markdown",
   "metadata": {},
   "source": [
    "### 3.  Implementation of a hash table"
   ]
  },
  {
   "cell_type": "code",
   "execution_count": null,
   "metadata": {},
   "outputs": [],
   "source": []
  }
 ],
 "metadata": {
  "kernelspec": {
   "display_name": "Python 2",
   "language": "python",
   "name": "python2"
  },
  "language_info": {
   "codemirror_mode": {
    "name": "ipython",
    "version": 2
   },
   "file_extension": ".py",
   "mimetype": "text/x-python",
   "name": "python",
   "nbconvert_exporter": "python",
   "pygments_lexer": "ipython2",
   "version": "2.7.16"
  }
 },
 "nbformat": 4,
 "nbformat_minor": 2
}
