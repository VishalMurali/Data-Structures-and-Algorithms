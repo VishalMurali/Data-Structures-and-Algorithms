{
 "cells": [
  {
   "cell_type": "markdown",
   "metadata": {},
   "source": [
    "### Implementation\n",
    "- Stacks\n",
    "- Queues\n",
    "- Dequeues"
   ]
  },
  {
   "cell_type": "markdown",
   "metadata": {},
   "source": [
    "### 1. Balanced Parantheses check"
   ]
  },
  {
   "cell_type": "markdown",
   "metadata": {},
   "source": [
    "### Problem Statement\n",
    "\n",
    "Given a string of opening and closing parentheses, check whether it’s balanced. We have 3 types of parentheses: round brackets: (), square brackets: [], and curly brackets: {}. Assume that the string doesn’t contain any other character than these, no spaces words or numbers. As a reminder, balanced parentheses require every opening parenthesis to be closed in the reverse order opened. For example ‘([])’ is balanced but ‘([)]’ is not.\n",
    "\n",
    "You can assume the input string has no spaces.\n",
    "\n",
    "Solution\n",
    "Fill out your solution below:"
   ]
  },
  {
   "cell_type": "code",
   "execution_count": 1,
   "metadata": {},
   "outputs": [],
   "source": [
    "def balance_check(s):\n",
    "    bracket_pairs = {\n",
    "        \"}\":\"{\",\n",
    "        \"]\":\"[\",\n",
    "        \")\":\"(\"\n",
    "    }\n",
    "    \n",
    "    check_stack = []\n",
    "    \n",
    "    \n",
    "    for l in s:\n",
    "        if l not in bracket_pairs.keys():\n",
    "            check_stack.append(l)\n",
    "        elif l in bracket_pairs.keys():\n",
    "            if check_stack.pop() != bracket_pairs[l]:\n",
    "                return False\n",
    "            \n",
    "    return check_stack == []"
   ]
  },
  {
   "cell_type": "code",
   "execution_count": 2,
   "metadata": {},
   "outputs": [
    {
     "data": {
      "text/plain": [
       "True"
      ]
     },
     "execution_count": 2,
     "metadata": {},
     "output_type": "execute_result"
    }
   ],
   "source": [
    "balance_check('[]')"
   ]
  },
  {
   "cell_type": "code",
   "execution_count": 3,
   "metadata": {},
   "outputs": [
    {
     "name": "stdout",
     "output_type": "stream",
     "text": [
      "ALL TEST CASES PASSED\n"
     ]
    }
   ],
   "source": [
    "\"\"\"\n",
    "RUN THIS CELL TO TEST YOUR SOLUTION\n",
    "\"\"\"\n",
    "from nose.tools import assert_equal\n",
    "\n",
    "class TestBalanceCheck(object):\n",
    "    \n",
    "    def test(self,sol):\n",
    "        assert_equal(sol('[](){([[[]]])}('),False)\n",
    "        assert_equal(sol('[{{{(())}}}]((()))'),True)\n",
    "        assert_equal(sol('[[[]])]'),False)\n",
    "        print ('ALL TEST CASES PASSED')\n",
    "        \n",
    "# Run Tests\n",
    "\n",
    "t = TestBalanceCheck()\n",
    "t.test(balance_check)"
   ]
  },
  {
   "cell_type": "markdown",
   "metadata": {},
   "source": [
    "### 2. Implement a Queue - Using Two Stacks\n",
    "\n",
    "Given the Stack class below, implement a Queue class using two stacks! Note, this is a \"classic\" interview problem. Use a Python list data structure as your Stack."
   ]
  },
  {
   "cell_type": "code",
   "execution_count": 4,
   "metadata": {},
   "outputs": [],
   "source": [
    "stack1 = []\n",
    "stack2 = []\n"
   ]
  },
  {
   "cell_type": "code",
   "execution_count": 5,
   "metadata": {},
   "outputs": [],
   "source": [
    "class Queue2Stacks(object):\n",
    "    \n",
    "    def __init__(self):\n",
    "        \n",
    "        # Two Stacks\n",
    "        self.in_stack = []\n",
    "        self.out_stack = []\n",
    "     \n",
    "    def enqueue(self, element):\n",
    "        # FILL OUT CODE HERE\n",
    "        self.in_stack.append(element)\n",
    "        pass\n",
    "    \n",
    "    def dequeue(self):\n",
    "        \n",
    "        # FILL OUT CODE HERE\n",
    "        if not self.out_stack:\n",
    "            while self.in_stack:\n",
    "                self.out_stack.append(self.in_stack.pop())\n",
    "        return self.out_stack.pop()\n",
    "        pass\n",
    "    \n",
    "   "
   ]
  },
  {
   "cell_type": "markdown",
   "metadata": {},
   "source": [
    "#### TEST"
   ]
  },
  {
   "cell_type": "code",
   "execution_count": 6,
   "metadata": {},
   "outputs": [],
   "source": [
    "q = Queue2Stacks()\n",
    "\n",
    "for i in range(1,6):\n",
    "    q.enqueue(i)\n",
    "    \n",
    "# [1 ,2 ,3 , 4, 5]"
   ]
  },
  {
   "cell_type": "markdown",
   "metadata": {},
   "source": [
    "q.dequeue()\n"
   ]
  },
  {
   "cell_type": "markdown",
   "metadata": {},
   "source": [
    "### 3. Implement a Stack\n",
    "\n",
    "#### Stack Attributes and Methods\n",
    "\n",
    "Before we implement our own Stack class, let's review the properties and methods of a Stack.\n",
    "\n",
    "The stack abstract data type is defined by the following structure and operations. A stack is structured, as described above, as an ordered collection of items where items are added to and removed from the end called the “top.” Stacks are ordered LIFO. The stack operations are given below.\n",
    "\n",
    "- Stack() creates a new stack that is empty. It needs no parameters and returns an empty stack.\n",
    "- push(item) adds a new item to the top of the stack. It needs the item and returns nothing.\n",
    "- pop() removes the top item from the stack. It needs no parameters and returns the item. The stack is modified.\n",
    "- peek() returns the top item from the stack but does not remove it. It needs no parameters. The stack is not modified.\n",
    "- isEmpty() tests to see whether the stack is empty. It needs no parameters and returns a boolean value.\n",
    "- size() returns the number of items on the stack. It needs no parameters and returns an integer."
   ]
  },
  {
   "cell_type": "code",
   "execution_count": 7,
   "metadata": {},
   "outputs": [],
   "source": [
    "class Stack:\n",
    "    \n",
    "    \n",
    "    def __init__(self):\n",
    "        self.items = []\n",
    "\n",
    "    def isEmpty(self):\n",
    "        return self.items == []\n",
    "\n",
    "    def push(self, item):\n",
    "        self.items.append(item)\n",
    "\n",
    "    def pop(self):\n",
    "        return self.items.pop()\n",
    "\n",
    "    def peek(self):\n",
    "        return self.items[len(self.items)-1]\n",
    "\n",
    "    def size(self):\n",
    "        return len(self.items)"
   ]
  },
  {
   "cell_type": "code",
   "execution_count": null,
   "metadata": {},
   "outputs": [],
   "source": []
  },
  {
   "cell_type": "markdown",
   "metadata": {},
   "source": [
    "### 4. Implement a Queue\n",
    "\n",
    "#### Queue Methods and Attributes\n",
    "Before we begin implementing our own queue, let's review the attribute and methods it will have:\n",
    "\n",
    "- Queue() creates a new queue that is empty. It needs no parameters and returns an empty queue.\n",
    "- enqueue(item) adds a new item to the rear of the queue. It needs the item and returns nothing.\n",
    "- dequeue() removes the front item from the queue. It needs no parameters and returns the item. The queue is modified.\n",
    "- isEmpty() tests to see whether the queue is empty. It needs no parameters and returns a boolean value.\n",
    "- size() returns the number of items in the queue. It needs no parameters and returns an integer."
   ]
  },
  {
   "cell_type": "code",
   "execution_count": 8,
   "metadata": {},
   "outputs": [],
   "source": [
    "class Queue:\n",
    "    def __init__(self):\n",
    "        self.items = []\n",
    "\n",
    "    def isEmpty(self):\n",
    "        return self.items == []\n",
    "\n",
    "    def enqueue(self, item):\n",
    "        self.items.insert(0,item)\n",
    "\n",
    "    def dequeue(self):\n",
    "        return self.items.pop()\n",
    "\n",
    "    def size(self):\n",
    "        return len(self.items)"
   ]
  },
  {
   "cell_type": "markdown",
   "metadata": {},
   "source": [
    "### 5. Implement a Deque\n",
    "\n",
    "#### Methods and Attributes\n",
    "- Deque() creates a new deque that is empty. It needs no parameters and returns an empty deque.\n",
    "- addFront(item) adds a new item to the front of the deque. It needs the item and returns nothing.\n",
    "- addRear(item) adds a new item to the rear of the deque. It needs the item and returns nothing.\n",
    "- removeFront() removes the front item from the deque. It needs no parameters and returns the item. The deque is modified.\n",
    "- removeRear() removes the rear item from the deque. It needs no parameters and returns the item. The deque is modified.\n",
    "- isEmpty() tests to see whether the deque is empty. It needs no parameters and returns a boolean value.\n",
    "- size() returns the number of items in the deque. It needs no parameters and returns an integer."
   ]
  },
  {
   "cell_type": "code",
   "execution_count": 9,
   "metadata": {},
   "outputs": [],
   "source": [
    "class Deque:\n",
    "    def __init__(self):\n",
    "        self.items = []\n",
    "\n",
    "    def isEmpty(self):\n",
    "        return self.items == []\n",
    "\n",
    "    def addFront(self, item):\n",
    "        self.items.append(item)\n",
    "\n",
    "    def addRear(self, item):\n",
    "        self.items.insert(0,item)\n",
    "\n",
    "    def removeFront(self):\n",
    "        return self.items.pop()\n",
    "\n",
    "    def removeRear(self):\n",
    "        return self.items.pop(0)\n",
    "\n",
    "    def size(self):\n",
    "        return len(self.items)"
   ]
  },
  {
   "cell_type": "code",
   "execution_count": null,
   "metadata": {},
   "outputs": [],
   "source": []
  }
 ],
 "metadata": {
  "kernelspec": {
   "display_name": "Python 2",
   "language": "python",
   "name": "python2"
  },
  "language_info": {
   "codemirror_mode": {
    "name": "ipython",
    "version": 2
   },
   "file_extension": ".py",
   "mimetype": "text/x-python",
   "name": "python",
   "nbconvert_exporter": "python",
   "pygments_lexer": "ipython2",
   "version": "2.7.16"
  }
 },
 "nbformat": 4,
 "nbformat_minor": 2
}
