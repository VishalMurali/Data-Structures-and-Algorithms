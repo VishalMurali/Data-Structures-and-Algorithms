{
 "cells": [
  {
   "cell_type": "markdown",
   "metadata": {},
   "source": [
    "### Implementation\n",
    "- Stacks\n",
    "- Queues\n",
    "- Dequeues"
   ]
  },
  {
   "cell_type": "markdown",
   "metadata": {},
   "source": [
    "### 1. Balanced Parantheses check"
   ]
  },
  {
   "cell_type": "markdown",
   "metadata": {},
   "source": [
    "### Problem Statement\n",
    "\n",
    "Given a string of opening and closing parentheses, check whether it’s balanced. We have 3 types of parentheses: round brackets: (), square brackets: [], and curly brackets: {}. Assume that the string doesn’t contain any other character than these, no spaces words or numbers. As a reminder, balanced parentheses require every opening parenthesis to be closed in the reverse order opened. For example ‘([])’ is balanced but ‘([)]’ is not.\n",
    "\n",
    "You can assume the input string has no spaces.\n",
    "\n",
    "Solution\n",
    "Fill out your solution below:"
   ]
  },
  {
   "cell_type": "code",
   "execution_count": 12,
   "metadata": {},
   "outputs": [],
   "source": [
    "def balance_check(s):\n",
    "    bracket_pairs = {\n",
    "        \"}\":\"{\",\n",
    "        \"]\":\"[\",\n",
    "        \")\":\"(\"\n",
    "    }\n",
    "    \n",
    "    check_stack = []\n",
    "    \n",
    "    \n",
    "    for l in s:\n",
    "        if l not in bracket_pairs.keys():\n",
    "            check_stack.append(l)\n",
    "        elif l in bracket_pairs.keys():\n",
    "            if check_stack.pop() != bracket_pairs[l]:\n",
    "                return False\n",
    "            \n",
    "    return check_stack == []"
   ]
  },
  {
   "cell_type": "code",
   "execution_count": 13,
   "metadata": {},
   "outputs": [
    {
     "data": {
      "text/plain": [
       "True"
      ]
     },
     "execution_count": 13,
     "metadata": {},
     "output_type": "execute_result"
    }
   ],
   "source": [
    "balance_check('[]')"
   ]
  },
  {
   "cell_type": "code",
   "execution_count": 14,
   "metadata": {},
   "outputs": [
    {
     "name": "stdout",
     "output_type": "stream",
     "text": [
      "ALL TEST CASES PASSED\n"
     ]
    }
   ],
   "source": [
    "\"\"\"\n",
    "RUN THIS CELL TO TEST YOUR SOLUTION\n",
    "\"\"\"\n",
    "from nose.tools import assert_equal\n",
    "\n",
    "class TestBalanceCheck(object):\n",
    "    \n",
    "    def test(self,sol):\n",
    "        assert_equal(sol('[](){([[[]]])}('),False)\n",
    "        assert_equal(sol('[{{{(())}}}]((()))'),True)\n",
    "        assert_equal(sol('[[[]])]'),False)\n",
    "        print ('ALL TEST CASES PASSED')\n",
    "        \n",
    "# Run Tests\n",
    "\n",
    "t = TestBalanceCheck()\n",
    "t.test(balance_check)"
   ]
  },
  {
   "cell_type": "markdown",
   "metadata": {},
   "source": [
    "### 2. Implement a Queue - Using Two Stacks\n",
    "\n",
    "Given the Stack class below, implement a Queue class using two stacks! Note, this is a \"classic\" interview problem. Use a Python list data structure as your Stack."
   ]
  },
  {
   "cell_type": "code",
   "execution_count": 15,
   "metadata": {},
   "outputs": [],
   "source": [
    "stack1 = []\n",
    "stack2 = []\n"
   ]
  },
  {
   "cell_type": "code",
   "execution_count": 48,
   "metadata": {},
   "outputs": [],
   "source": [
    "class Queue2Stacks(object):\n",
    "    \n",
    "    def __init__(self):\n",
    "        \n",
    "        # Two Stacks\n",
    "        self.in_stack = []\n",
    "        self.out_stack = []\n",
    "     \n",
    "    def enqueue(self, element):\n",
    "        # FILL OUT CODE HERE\n",
    "        self.in_stack.append(element)\n",
    "        pass\n",
    "    \n",
    "    def dequeue(self):\n",
    "        \n",
    "        # FILL OUT CODE HERE\n",
    "        if not self.out_stack:\n",
    "            while self.in_stack:\n",
    "                self.out_stack.append(self.in_stack.pop())\n",
    "        return self.out_stack.pop()\n",
    "        pass\n",
    "    \n",
    "   "
   ]
  },
  {
   "cell_type": "markdown",
   "metadata": {},
   "source": [
    "#### TEST"
   ]
  },
  {
   "cell_type": "code",
   "execution_count": 51,
   "metadata": {},
   "outputs": [],
   "source": [
    "q = Queue2Stacks()\n",
    "\n",
    "for i in range(1,6):\n",
    "    q.enqueue(i)\n",
    "    \n",
    "# [1 ,2 ,3 , 4, 5]"
   ]
  },
  {
   "cell_type": "markdown",
   "metadata": {},
   "source": [
    "q.dequeue()\n"
   ]
  },
  {
   "cell_type": "markdown",
   "metadata": {},
   "source": [
    "### 3. Implement a Stack"
   ]
  },
  {
   "cell_type": "code",
   "execution_count": null,
   "metadata": {},
   "outputs": [],
   "source": []
  },
  {
   "cell_type": "markdown",
   "metadata": {},
   "source": [
    "### 4. Implement a Queue"
   ]
  },
  {
   "cell_type": "code",
   "execution_count": null,
   "metadata": {},
   "outputs": [],
   "source": []
  },
  {
   "cell_type": "markdown",
   "metadata": {},
   "source": [
    "### 5. Implement a Deque"
   ]
  },
  {
   "cell_type": "code",
   "execution_count": null,
   "metadata": {},
   "outputs": [],
   "source": []
  }
 ],
 "metadata": {
  "kernelspec": {
   "display_name": "Python 2",
   "language": "python",
   "name": "python2"
  },
  "language_info": {
   "codemirror_mode": {
    "name": "ipython",
    "version": 2
   },
   "file_extension": ".py",
   "mimetype": "text/x-python",
   "name": "python",
   "nbconvert_exporter": "python",
   "pygments_lexer": "ipython2",
   "version": "2.7.16"
  }
 },
 "nbformat": 4,
 "nbformat_minor": 2
}
