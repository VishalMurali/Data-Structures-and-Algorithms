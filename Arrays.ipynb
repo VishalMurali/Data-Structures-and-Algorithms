{
 "cells": [
  {
   "cell_type": "markdown",
   "metadata": {},
   "source": [
    "##  Arrays\n"
   ]
  },
  {
   "cell_type": "markdown",
   "metadata": {},
   "source": [
    "### 1. Anagram check"
   ]
  },
  {
   "cell_type": "code",
   "execution_count": 26,
   "metadata": {},
   "outputs": [],
   "source": [
    "\n",
    "def anagram(s, t):\n",
    "    \n",
    "    s_stripped = s.replace(\" \", \"\").lower()\n",
    "    t_stripped = t.replace(\" \", \"\").lower()\n",
    "      \n",
    "    s_list = list(s_stripped)\n",
    "    t_list = list(t_stripped)\n",
    "    \n",
    "    if len(s_list) != len(t_list):\n",
    "        return False\n",
    "    else:\n",
    "        counter_s = {}\n",
    "        for i in s_list:\n",
    "            if i not in counter_s:\n",
    "                counter_s[i] = 1\n",
    "            else:\n",
    "                counter_s[i] +=1\n",
    "                \n",
    "        counter_t = {}\n",
    "        for i in t_list:\n",
    "            if i not in counter_t:\n",
    "                counter_t[i] = 1\n",
    "            else:\n",
    "                counter_t[i] +=1\n",
    "                \n",
    "    return counter_s == counter_t"
   ]
  },
  {
   "cell_type": "code",
   "execution_count": 27,
   "metadata": {},
   "outputs": [
    {
     "name": "stdout",
     "output_type": "stream",
     "text": [
      "{'o': 3, 'g': 3}\n",
      "{'o': 3, 'g': 3}\n",
      "{'a': 1, 'c': 1, 'b': 1}\n",
      "{'a': 1, 'c': 1, 'b': 1}\n",
      "{'i': 1, 'h': 1, 'm': 1, 'a': 1, 'n': 1}\n",
      "{'i': 1, 'h': 1, 'm': 1, 'a': 1, 'n': 1}\n",
      "ALL TEST CASES PASSED\n"
     ]
    }
   ],
   "source": [
    "\"\"\"\n",
    "RUN THIS CELL TO TEST YOUR SOLUTION\n",
    "\"\"\"\n",
    "from nose.tools import assert_equal\n",
    "\n",
    "class AnagramTest(object):\n",
    "    \n",
    "    def test(self,sol):\n",
    "        assert_equal(sol('go go go','gggooo'),True)\n",
    "        assert_equal(sol('abc','cba'),True)\n",
    "        assert_equal(sol('hi man','hi     man'),True)\n",
    "        assert_equal(sol('aabbcc','aabbc'),False)\n",
    "        assert_equal(sol('123','1 2'),False)\n",
    "        print('ALL TEST CASES PASSED')\n",
    "\n",
    "# Run Tests\n",
    "t = AnagramTest()\n",
    "t.test(anagram)"
   ]
  },
  {
   "cell_type": "markdown",
   "metadata": {},
   "source": [
    "### 2. Array Pair Sum"
   ]
  },
  {
   "cell_type": "code",
   "execution_count": 50,
   "metadata": {},
   "outputs": [],
   "source": [
    "# Time complexity : n ^ 2\n",
    "def pair_sum(arr,k):\n",
    "    count = 0\n",
    "    result = []\n",
    "    \n",
    "    for i in range(0, len(arr)):\n",
    "        for j in range(i, len(arr)):\n",
    "            if arr[i] + arr[j] == k:\n",
    "                count += 1\n",
    "                if arr[i] <= arr[j]:\n",
    "                    result.append((arr[i],arr[j]))\n",
    "                else:\n",
    "                    result.append((arr[j],arr[i]))\n",
    "    \n",
    "    return len(set(result))"
   ]
  },
  {
   "cell_type": "code",
   "execution_count": 59,
   "metadata": {},
   "outputs": [],
   "source": [
    "# Time complexity : n\n",
    "def pair_sum(arr,k):\n",
    "    \n",
    "    seen = set()\n",
    "    result = set()\n",
    "    \n",
    "    for num in arr:\n",
    "        complement = k - num\n",
    "        \n",
    "        if complement not in seen:\n",
    "            seen.add(num)\n",
    "            \n",
    "        else:\n",
    "            result.add((min(num, complement), max(num, complement)))\n",
    "            \n",
    "    return len(result)"
   ]
  },
  {
   "cell_type": "code",
   "execution_count": 60,
   "metadata": {},
   "outputs": [
    {
     "data": {
      "text/plain": [
       "2"
      ]
     },
     "execution_count": 60,
     "metadata": {},
     "output_type": "execute_result"
    }
   ],
   "source": [
    "pair_sum([1,3,2,2],4)"
   ]
  },
  {
   "cell_type": "code",
   "execution_count": 61,
   "metadata": {},
   "outputs": [
    {
     "name": "stdout",
     "output_type": "stream",
     "text": [
      "ALL TEST CASES PASSED\n"
     ]
    }
   ],
   "source": [
    "\"\"\"\n",
    "RUN THIS CELL TO TEST YOUR SOLUTION\n",
    "\"\"\"\n",
    "from nose.tools import assert_equal\n",
    "\n",
    "class TestPair(object):\n",
    "    \n",
    "    def test(self,sol):\n",
    "        assert_equal(sol([1,9,2,8,3,7,4,6,5,5,13,14,11,13,-1],10),6)\n",
    "        assert_equal(sol([1,2,3,1],3),1)\n",
    "        assert_equal(sol([1,3,2,2],4),2)\n",
    "        print('ALL TEST CASES PASSED')\n",
    "        \n",
    "#Run tests\n",
    "t = TestPair()\n",
    "t.test(pair_sum)"
   ]
  },
  {
   "cell_type": "markdown",
   "metadata": {},
   "source": [
    "### 3. Find the missing element"
   ]
  },
  {
   "cell_type": "code",
   "execution_count": 70,
   "metadata": {},
   "outputs": [],
   "source": [
    "def finder(arr1,arr2):\n",
    "    # My idea - using counters   \n",
    "    counter1 = {}\n",
    "    counter2 = {}\n",
    "    \n",
    "    for e in arr1:\n",
    "        if e not in counter1:\n",
    "            counter1[e] = 1\n",
    "        if e in counter1:\n",
    "            counter1[e] += 1\n",
    "            \n",
    "    for e in arr2:\n",
    "        if e not in counter2:\n",
    "            counter2[e] = 1\n",
    "        if e in counter2:\n",
    "            counter2[e] += 1\n",
    "            \n",
    "    for k in counter1.keys():\n",
    "        if k in counter2.keys():\n",
    "            if counter1[k] != counter2[k]:\n",
    "                return k\n",
    "            else:\n",
    "                continue\n",
    "        else:\n",
    "            return k"
   ]
  },
  {
   "cell_type": "code",
   "execution_count": 74,
   "metadata": {},
   "outputs": [],
   "source": [
    "def finder(arr1,arr2):\n",
    "    # My idea - using counters   \n",
    "    counter2 = {}\n",
    "    \n",
    "    \n",
    "    for e in arr2:\n",
    "        if e not in counter2:\n",
    "            counter2[e] = 1\n",
    "        if e in counter2:\n",
    "            counter2[e] += 1\n",
    "            \n",
    "    for e in arr1:\n",
    "        if e in counter2:\n",
    "            counter2[e] -= 1\n",
    "        elif e not in counter2:\n",
    "            return e\n",
    "            \n",
    "    for e in counter2.keys():\n",
    "        if counter2[e] == 0:\n",
    "            return e"
   ]
  },
  {
   "cell_type": "code",
   "execution_count": 75,
   "metadata": {},
   "outputs": [
    {
     "name": "stdout",
     "output_type": "stream",
     "text": [
      "ALL TEST CASES PASSED\n"
     ]
    }
   ],
   "source": [
    "\"\"\"\n",
    "RUN THIS CELL TO TEST YOUR SOLUTION\n",
    "\"\"\"\n",
    "from nose.tools import assert_equal\n",
    "\n",
    "class TestFinder(object):\n",
    "    \n",
    "    def test(self,sol):\n",
    "        assert_equal(sol([5,5,7,7],[5,7,7]),5)\n",
    "        assert_equal(sol([1,2,3,4,5,6,7],[3,7,2,1,4,6]),5)\n",
    "        assert_equal(sol([9,8,7,6,5,4,3,2,1],[9,8,7,5,4,3,2,1]),6)\n",
    "        print 'ALL TEST CASES PASSED'\n",
    "\n",
    "# Run test\n",
    "t = TestFinder()\n",
    "t.test(finder)"
   ]
  },
  {
   "cell_type": "markdown",
   "metadata": {},
   "source": [
    "### 4. Largest continuous sum"
   ]
  },
  {
   "cell_type": "code",
   "execution_count": 133,
   "metadata": {},
   "outputs": [],
   "source": [
    "def large_cont_sum(arr): \n",
    "    \n",
    "    current_sum = arr[0]\n",
    "    max_sum = arr[0]\n",
    "    \n",
    "    for num in arr[1:]:\n",
    "        \n",
    "        print current_sum, max_sum\n",
    "        \n",
    "        current_sum = max(num, current_sum + num)\n",
    "        max_sum = max(current_sum, max_sum)\n",
    "        \n",
    "        \n",
    "    return max_sum "
   ]
  },
  {
   "cell_type": "code",
   "execution_count": 134,
   "metadata": {},
   "outputs": [
    {
     "name": "stdout",
     "output_type": "stream",
     "text": [
      "1 1\n",
      "3 3\n",
      "2 3\n",
      "5 5\n",
      "9 9\n",
      "19 19\n",
      "29 29\n",
      "19 29\n"
     ]
    },
    {
     "data": {
      "text/plain": [
       "29"
      ]
     },
     "execution_count": 134,
     "metadata": {},
     "output_type": "execute_result"
    }
   ],
   "source": [
    "large_cont_sum([1,2,-1,3,4,10,10,-10,-1])"
   ]
  },
  {
   "cell_type": "code",
   "execution_count": 132,
   "metadata": {},
   "outputs": [
    {
     "name": "stdout",
     "output_type": "stream",
     "text": [
      "ALL TEST CASES PASSED\n"
     ]
    }
   ],
   "source": [
    "from nose.tools import assert_equal\n",
    "\n",
    "class LargeContTest(object):\n",
    "    def test(self,sol):\n",
    "        assert_equal(sol([1,2,-1,3,4,-1]),9)\n",
    "        assert_equal(sol([1,2,-1,3,4,10,10,-10,-1]),29)\n",
    "        assert_equal(sol([-1,1]),1)\n",
    "        print ('ALL TEST CASES PASSED')\n",
    "        \n",
    "#Run Test\n",
    "t = LargeContTest()\n",
    "t.test(large_cont_sum)"
   ]
  },
  {
   "cell_type": "markdown",
   "metadata": {},
   "source": [
    "### 5. Sentence reversal\n",
    "\n",
    "#### Problem:\n",
    "\n",
    "Given a string of words, reverse all the words. For example:\n",
    "\n",
    "Given:\n",
    "\n",
    "'This is the best'\n",
    "\n",
    "Return:\n",
    "\n",
    "'best the is This'\n",
    "\n",
    "As part of this exercise you should remove all leading and trailing whitespace. So that inputs such as:\n",
    "\n",
    "'  space here'  and 'space here      '\n",
    "\n",
    "both become:\n",
    "\n",
    "'here space'"
   ]
  },
  {
   "cell_type": "code",
   "execution_count": 139,
   "metadata": {},
   "outputs": [],
   "source": [
    "def rev_word(s):\n",
    "       list_of_words = s.split()\n",
    "       \n",
    "       return ' '.join(list_of_words[::-1])"
   ]
  },
  {
   "cell_type": "code",
   "execution_count": 140,
   "metadata": {},
   "outputs": [
    {
     "data": {
      "text/plain": [
       "'best the is This'"
      ]
     },
     "execution_count": 140,
     "metadata": {},
     "output_type": "execute_result"
    }
   ],
   "source": [
    "rev_word('This is the best')"
   ]
  },
  {
   "cell_type": "code",
   "execution_count": 141,
   "metadata": {},
   "outputs": [
    {
     "name": "stdout",
     "output_type": "stream",
     "text": [
      "ALL TEST CASES PASSED\n"
     ]
    }
   ],
   "source": [
    "\"\"\"\n",
    "RUN THIS CELL TO TEST YOUR SOLUTION\n",
    "\"\"\"\n",
    "\n",
    "from nose.tools import assert_equal\n",
    "\n",
    "class ReversalTest(object):\n",
    "    \n",
    "    def test(self,sol):\n",
    "        assert_equal(sol('    space before'),'before space')\n",
    "        assert_equal(sol('space after     '),'after space')\n",
    "        assert_equal(sol('   Hello John    how are you   '),'you are how John Hello')\n",
    "        assert_equal(sol('1'),'1')\n",
    "        print \"ALL TEST CASES PASSED\"\n",
    "        \n",
    "# Run and test\n",
    "t = ReversalTest()\n",
    "t.test(rev_word)"
   ]
  },
  {
   "cell_type": "markdown",
   "metadata": {},
   "source": [
    "### 6. String Compression\n",
    "\n",
    "#### Problem\n",
    "Given a string in the form 'AAAABBBBCCCCCDDEEEE' compress it to become 'A4B4C5D2E4'. For this problem, you can falsely \"compress\" strings of single or double letters. For instance, it is okay for 'AAB' to return 'A2B1' even though this technically takes more space.\n",
    "\n",
    "The function should also be case sensitive, so that a string 'AAAaaa' returns 'A3a3'."
   ]
  },
  {
   "cell_type": "code",
   "execution_count": 152,
   "metadata": {},
   "outputs": [
    {
     "data": {
      "text/plain": [
       "{'A', 'B', 'C', 'D', 'E'}"
      ]
     },
     "execution_count": 152,
     "metadata": {},
     "output_type": "execute_result"
    }
   ],
   "source": [
    "set('AAAAAEEBBBBCCCCDD')"
   ]
  },
  {
   "cell_type": "code",
   "execution_count": 153,
   "metadata": {},
   "outputs": [],
   "source": [
    "def compress(s):\n",
    "    letters = list(s)\n",
    "    from collections import Counter\n",
    "    counter = Counter(letters)\n",
    "    result = ''\n",
    "    ordered_keys = []\n",
    "    \n",
    "    for l in letters:\n",
    "        if l not in ordered_keys:\n",
    "            ordered_keys.append(l)\n",
    "            \n",
    "    print ordered_keys\n",
    "    \n",
    "    for k in ordered_keys:\n",
    "        result += k\n",
    "        result += str(counter[k])\n",
    "    return result"
   ]
  },
  {
   "cell_type": "code",
   "execution_count": 155,
   "metadata": {},
   "outputs": [
    {
     "name": "stdout",
     "output_type": "stream",
     "text": [
      "['A', 'E', 'B', 'C']\n"
     ]
    },
    {
     "data": {
      "text/plain": [
       "'A5E2B4C4'"
      ]
     },
     "execution_count": 155,
     "metadata": {},
     "output_type": "execute_result"
    }
   ],
   "source": [
    "compress('AAAAAEEBBBBCCCC')"
   ]
  },
  {
   "cell_type": "code",
   "execution_count": 156,
   "metadata": {},
   "outputs": [
    {
     "name": "stdout",
     "output_type": "stream",
     "text": [
      "[]\n",
      "['A', 'B', 'C']\n",
      "['A', 'B', 'C', 'D']\n",
      "ALL TEST CASES PASSED\n"
     ]
    }
   ],
   "source": [
    "\"\"\"\n",
    "RUN THIS CELL TO TEST YOUR SOLUTION\n",
    "\"\"\"\n",
    "from nose.tools import assert_equal\n",
    "\n",
    "class TestCompress(object):\n",
    "\n",
    "    def test(self, sol):\n",
    "        assert_equal(sol(''), '')\n",
    "        assert_equal(sol('AABBCC'), 'A2B2C2')\n",
    "        assert_equal(sol('AAABCCDDDDD'), 'A3B1C2D5')\n",
    "        print 'ALL TEST CASES PASSED'\n",
    "\n",
    "# Run Tests\n",
    "t = TestCompress()\n",
    "t.test(compress)"
   ]
  },
  {
   "cell_type": "markdown",
   "metadata": {},
   "source": [
    "### 7. Unique characters in a string"
   ]
  },
  {
   "cell_type": "code",
   "execution_count": 159,
   "metadata": {},
   "outputs": [],
   "source": [
    "def uni_char(s):\n",
    "    return len(set(s)) == len(s)"
   ]
  },
  {
   "cell_type": "code",
   "execution_count": 160,
   "metadata": {},
   "outputs": [
    {
     "name": "stdout",
     "output_type": "stream",
     "text": [
      "ALL TEST CASES PASSED\n"
     ]
    }
   ],
   "source": [
    "\"\"\"\n",
    "RUN THIS CELL TO TEST YOUR CODE>\n",
    "\"\"\"\n",
    "from nose.tools import assert_equal\n",
    "\n",
    "\n",
    "class TestUnique(object):\n",
    "\n",
    "    def test(self, sol):\n",
    "        assert_equal(sol(''), True)\n",
    "        assert_equal(sol('goo'), False)\n",
    "        assert_equal(sol('abcdefg'), True)\n",
    "        print 'ALL TEST CASES PASSED'\n",
    "        \n",
    "# Run Tests\n",
    "t = TestUnique()\n",
    "t.test(uni_char)"
   ]
  },
  {
   "cell_type": "code",
   "execution_count": null,
   "metadata": {},
   "outputs": [],
   "source": []
  }
 ],
 "metadata": {
  "kernelspec": {
   "display_name": "Python 2",
   "language": "python",
   "name": "python2"
  },
  "language_info": {
   "codemirror_mode": {
    "name": "ipython",
    "version": 2
   },
   "file_extension": ".py",
   "mimetype": "text/x-python",
   "name": "python",
   "nbconvert_exporter": "python",
   "pygments_lexer": "ipython2",
   "version": "2.7.16"
  }
 },
 "nbformat": 4,
 "nbformat_minor": 2
}
